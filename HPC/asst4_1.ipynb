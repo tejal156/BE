{
  "nbformat": 4,
  "nbformat_minor": 0,
  "metadata": {
    "colab": {
      "provenance": [],
      "gpuType": "T4"
    },
    "kernelspec": {
      "name": "python3",
      "display_name": "Python 3"
    },
    "language_info": {
      "name": "python"
    },
    "accelerator": "GPU"
  },
  "cells": [
    {
      "cell_type": "code",
      "execution_count": null,
      "metadata": {
        "id": "Z0aen7uGtA_o"
      },
      "outputs": [],
      "source": [
        "# !nvcc add_vector.cu -o a\n"
      ]
    },
    {
      "cell_type": "code",
      "source": [
        "# !./a"
      ],
      "metadata": {
        "id": "ZR9wPa9lvYr7"
      },
      "execution_count": 10,
      "outputs": []
    },
    {
      "cell_type": "code",
      "source": [
        "# print(\"Hi\")"
      ],
      "metadata": {
        "id": "vHx0B2SjtqRC"
      },
      "execution_count": 1,
      "outputs": []
    },
    {
      "cell_type": "code",
      "source": [
        "!nvcc -arch=sm_75 sample_data/asst4.cu -o a"
      ],
      "metadata": {
        "id": "FvSICM7zosQE"
      },
      "execution_count": 8,
      "outputs": []
    },
    {
      "cell_type": "code",
      "source": [
        "!./a"
      ],
      "metadata": {
        "colab": {
          "base_uri": "https://localhost:8080/"
        },
        "id": "Kngm8BRfozPI",
        "outputId": "fe3db53e-a55c-4dd3-8fe5-445e2cc5b8e3"
      },
      "execution_count": 9,
      "outputs": [
        {
          "output_type": "stream",
          "name": "stdout",
          "text": [
            "Hii10 0 0 0 0 0 0 0 0 0 \n",
            "3 6 7 5 3 5 6 2 9 1 \n",
            "2 7 0 9 3 6 0 6 2 6 \n",
            "5 13 7 14 6 11 6 8 11 7 \n",
            "5 13 7 14 6 11 6 8 11 7 \n"
          ]
        }
      ]
    }
  ]
}